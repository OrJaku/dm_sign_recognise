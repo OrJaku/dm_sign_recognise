{
  "nbformat": 4,
  "nbformat_minor": 0,
  "metadata": {
    "colab": {
      "name": "Day5.ipynb",
      "provenance": [],
      "mount_file_id": "1DTEvIw81OuYImL8nFcFqTQEfRsoEXhfV",
      "authorship_tag": "ABX9TyOaJES3nmrhokzHxv4N7tS7",
      "include_colab_link": true
    },
    "kernelspec": {
      "name": "python3",
      "display_name": "Python 3"
    },
    "accelerator": "GPU"
  },
  "cells": [
    {
      "cell_type": "markdown",
      "metadata": {
        "id": "view-in-github",
        "colab_type": "text"
      },
      "source": [
        "<a href=\"https://colab.research.google.com/github/OrJaku/dm_sign_recognise/blob/master/Day5.ipynb\" target=\"_parent\"><img src=\"https://colab.research.google.com/assets/colab-badge.svg\" alt=\"Open In Colab\"/></a>"
      ]
    },
    {
      "cell_type": "code",
      "metadata": {
        "id": "6aGNmA5Jk_Ux",
        "colab_type": "code",
        "colab": {}
      },
      "source": [
        "import pandas as pd\n",
        "import numpy as np\n",
        "\n",
        "import tensorflow as tf \n",
        "from tensorflow.keras.models import Sequential\n",
        "from tensorflow.keras.layers import Conv2D, MaxPool2D, Dense, Flatten, Dropout\n",
        "from tensorflow.keras.utils import to_categorical\n",
        "\n",
        "import os\n",
        "import datetime\n",
        "\n",
        "import matplotlib.pyplot as plt\n",
        "from skimage import color, exposure\n",
        "from sklearn.metrics import accuracy_score\n",
        "\n",
        "from hyperopt import hp, STATUS_OK, tpe, Trials, fmin\n"
      ],
      "execution_count": 0,
      "outputs": []
    },
    {
      "cell_type": "code",
      "metadata": {
        "id": "LCDcD8p2maI3",
        "colab_type": "code",
        "colab": {}
      },
      "source": [
        "pip install hyperopt"
      ],
      "execution_count": 0,
      "outputs": []
    },
    {
      "cell_type": "code",
      "metadata": {
        "id": "uxplc3CumOa4",
        "colab_type": "code",
        "colab": {
          "base_uri": "https://localhost:8080/",
          "height": 34
        },
        "outputId": "02885a1a-6a05-4d9a-a26d-51b22d3ce403"
      },
      "source": [
        "cd drive/My Drive/Colab Notebooks/dw_matrix_3/dm_sign_recognise"
      ],
      "execution_count": 6,
      "outputs": [
        {
          "output_type": "stream",
          "text": [
            "/content/drive/My Drive/Colab Notebooks/dw_matrix_3/dm_sign_recognise\n"
          ],
          "name": "stdout"
        }
      ]
    },
    {
      "cell_type": "markdown",
      "metadata": {
        "id": "IQlyYfP7nCcM",
        "colab_type": "text"
      },
      "source": [
        "# Dawnload and preapare data"
      ]
    },
    {
      "cell_type": "code",
      "metadata": {
        "id": "SHiLKLmamO5t",
        "colab_type": "code",
        "colab": {}
      },
      "source": [
        "train = pd.read_pickle('data/train.p')\n",
        "test = pd.read_pickle('data/test.p')\n",
        "\n",
        "x_train, y_train = train['features'], train['labels']\n",
        "x_test, y_test = test['features'], test['labels']\n",
        "\n",
        "if y_train.ndim == 1: y_train = to_categorical(y_train)\n",
        "if y_test.ndim == 1: y_test = to_categorical(y_test)\n",
        "\n",
        "input_shape = x_train.shape[1:]\n",
        "num_classes = y_train.shape[1]\n",
        "\n",
        "\n",
        "df = pd.read_csv('data/signnames.csv')\n",
        "lables_dict = df.to_dict()['b']\n",
        "\n"
      ],
      "execution_count": 0,
      "outputs": []
    },
    {
      "cell_type": "markdown",
      "metadata": {
        "id": "QNZzWFIvnMJ9",
        "colab_type": "text"
      },
      "source": [
        "# Model compile and fit"
      ]
    },
    {
      "cell_type": "code",
      "metadata": {
        "id": "XVxOWS3Om_-Y",
        "colab_type": "code",
        "colab": {}
      },
      "source": [
        "def train_model(model, x_train, y_train, params_fit={}):\n",
        "  model.compile(loss='categorical_crossentropy', optimizer='Adam', metrics=['accuracy'])\n",
        "\n",
        "  logdir=os.path.join('logs', str(datetime.datetime.now().strftime(\"%Y%m%d-%H%M%S\")))\n",
        "  tensorboard_callback = tf.keras.callbacks.TensorBoard(logdir, histogram_freq=1)\n",
        "\n",
        "  model.fit(\n",
        "      x_train, \n",
        "      y_train,\n",
        "      batch_size=params_fit.get('barch_size', 128),\n",
        "      epochs=params_fit.get('epochs', 5),\n",
        "      verbose=params_fit.get('verbose', 1),\n",
        "      validation_data=params_fit.get('validation_data', (x_train, y_train)),\n",
        "      callbacks= [tensorboard_callback]\n",
        "\n",
        "\n",
        "      )\n",
        "  return model"
      ],
      "execution_count": 0,
      "outputs": []
    },
    {
      "cell_type": "markdown",
      "metadata": {
        "id": "ayRwYUXqnfgy",
        "colab_type": "text"
      },
      "source": [
        "# Predict function"
      ]
    },
    {
      "cell_type": "code",
      "metadata": {
        "id": "eszyvt0kmysD",
        "colab_type": "code",
        "colab": {}
      },
      "source": [
        "def predict(model_trained, x_test, y_test, scoring=accuracy_score):\n",
        "  y_test_norm = np.argmax(y_test, axis=1)\n",
        "\n",
        "  y_pred_prob = model_trained.predict(x_test)\n",
        "  y_pred = np.argmax(y_pred_prob, axis=1)\n",
        "\n",
        "  return scoring(y_test_norm, y_pred)\n",
        "  "
      ],
      "execution_count": 0,
      "outputs": []
    },
    {
      "cell_type": "markdown",
      "metadata": {
        "id": "bIUgB3KUnw_6",
        "colab_type": "text"
      },
      "source": [
        "# Creating CNN \n"
      ]
    },
    {
      "cell_type": "code",
      "metadata": {
        "id": "HRrKzAW4nuSO",
        "colab_type": "code",
        "colab": {}
      },
      "source": [
        "def get_cnn(input_shape, num_classes):\n",
        "  return  Sequential([\n",
        "            Conv2D(filters=32, kernel_size=(3,3), activation='relu', input_shape=input_shape),\n",
        "            Conv2D(filters=32, kernel_size=(3,3), activation='relu', padding=\"same\"),\n",
        "            MaxPool2D(),\n",
        "            Dropout(0.3),\n",
        "\n",
        "            Conv2D(filters=64, kernel_size=(3,3), activation='relu', padding=\"same\"),\n",
        "            Conv2D(filters=64, kernel_size=(3,3), activation='relu'),\n",
        "            MaxPool2D(),\n",
        "            Dropout(0.3),\n",
        "\n",
        "            \n",
        "            Conv2D(filters=64, kernel_size=(3,3), activation='relu', padding=\"same\"),\n",
        "            Conv2D(filters=64, kernel_size=(3,3), activation='relu'),\n",
        "            MaxPool2D(),\n",
        "            Dropout(0.3),\n",
        "\n",
        "            Flatten(),\n",
        "\n",
        "            Dense(1024, activation='relu'),\n",
        "            Dropout(0.3),\n",
        "\n",
        "            Dense(1024, activation='relu'),\n",
        "            Dropout(0.3),\n",
        "            \n",
        "            Dense(num_classes, activation='softmax')\n",
        "    \n",
        "  ])"
      ],
      "execution_count": 0,
      "outputs": []
    },
    {
      "cell_type": "markdown",
      "metadata": {
        "id": "kx1NkGR7n4_k",
        "colab_type": "text"
      },
      "source": [
        "## Converting *RGB* image to *Gray*"
      ]
    },
    {
      "cell_type": "code",
      "metadata": {
        "id": "VhTRl7ygoHNz",
        "colab_type": "code",
        "colab": {}
      },
      "source": [
        "x_train_gray = color.rgb2gray( x_train ).reshape(-1, 32, 32, 1)\n",
        "x_test_gray = color.rgb2gray( x_test ).reshape(-1, 32, 32, 1)"
      ],
      "execution_count": 0,
      "outputs": []
    },
    {
      "cell_type": "markdown",
      "metadata": {
        "id": "fFKXGeUxoH_m",
        "colab_type": "text"
      },
      "source": [
        "# Run model "
      ]
    },
    {
      "cell_type": "code",
      "metadata": {
        "id": "0WQtRvwfm1Mm",
        "colab_type": "code",
        "colab": {}
      },
      "source": [
        "params_fit= {\n",
        "    'epochs':8\n",
        "}\n",
        "\n",
        "\n",
        "model = get_cnn_v6((32, 32, 1), num_classes)\n",
        "model_trained = train_model(model, x_train_gray, y_train, params_fit)\n",
        "predict(model_trained, x_test_gray, y_test)\n"
      ],
      "execution_count": 0,
      "outputs": []
    },
    {
      "cell_type": "markdown",
      "metadata": {
        "id": "5-nDQ4WB0eNz",
        "colab_type": "text"
      },
      "source": [
        "--------- Optimalization ---------"
      ]
    },
    {
      "cell_type": "code",
      "metadata": {
        "id": "7H5T7MjB3dhp",
        "colab_type": "code",
        "colab": {}
      },
      "source": [
        "def get_model(params):\n",
        "  return  Sequential([\n",
        "            Conv2D(filters=32, kernel_size=(3,3), activation='relu', input_shape=input_shape),\n",
        "            Conv2D(filters=32, kernel_size=(3,3), activation='relu', padding=\"same\"),\n",
        "            MaxPool2D(),\n",
        "            Dropout(params['dropout_cnn_block_1']),\n",
        "\n",
        "            Conv2D(filters=64, kernel_size=(3,3), activation='relu', padding=\"same\"),\n",
        "            Conv2D(filters=64, kernel_size=(3,3), activation='relu'),\n",
        "            MaxPool2D(),\n",
        "            Dropout(params['dropout_cnn_block_2']),\n",
        "\n",
        "            \n",
        "            Conv2D(filters=128, kernel_size=(3,3), activation='relu', padding=\"same\"),\n",
        "            Conv2D(filters=128, kernel_size=(3,3), activation='relu'),\n",
        "            MaxPool2D(),\n",
        "            Dropout(params['dropout_cnn_block_3']),\n",
        "\n",
        "            Flatten(),\n",
        "\n",
        "            Dense(1024, activation='relu'),\n",
        "            Dropout(params['dropout_dense_block_1']),\n",
        "\n",
        "            Dense(1024, activation='relu'),\n",
        "            Dropout(params['dropout_dense_block_2']),\n",
        "            \n",
        "            Dense(num_classes, activation='softmax')\n",
        "    \n",
        "  ])"
      ],
      "execution_count": 0,
      "outputs": []
    },
    {
      "cell_type": "code",
      "metadata": {
        "id": "bxFK8snE0mKd",
        "colab_type": "code",
        "colab": {}
      },
      "source": [
        "def func_obj(params):\n",
        "  model = get_model(params)\n",
        "  model.compile(loss='categorical_crossentropy', optimizer='Adam', metrics=['accuracy'])\n",
        "\n",
        "  model.fit(\n",
        "      x_train, \n",
        "      y_train,\n",
        "      batch_size=int(params.get('barch_size', 128)),\n",
        "      epochs=8,\n",
        "      verbose=0,\n",
        "      )\n",
        "  score = model.evaluate(x_test, y_test)\n",
        "  accuracy = score[1]\n",
        "  print(params, 'accuracy={}'.format(accuracy))\n",
        "  return {'loss': -accuracy, 'status': STATUS_OK, 'model': model}"
      ],
      "execution_count": 0,
      "outputs": []
    },
    {
      "cell_type": "code",
      "metadata": {
        "id": "Hct7wphA1W29",
        "colab_type": "code",
        "colab": {}
      },
      "source": [
        "space = {\n",
        "    'barch_size': hp.quniform('barch_size', 100,200, 10),\n",
        "    'dropout_cnn_block_1': hp.uniform('dropout_cnn_block_1', 0.3, 0.5),\n",
        "    'dropout_cnn_block_2': hp.uniform('dropout_cnn_block_2', 0.3, 0.5),\n",
        "    'dropout_cnn_block_3': hp.uniform('dropout_cnn_block_3', 0.3, 0.5),\n",
        "    'dropout_dense_block_1': hp.uniform('dropout_dense_block_1', 0.3, 0.5),\n",
        "    'dropout_dense_block_2': hp.uniform('dropout_dense_block_2', 0.3, 0.5),\n",
        "}\n",
        "\n",
        "best = fmin(\n",
        "    func_obj,\n",
        "    space,\n",
        "    tpe.suggest,\n",
        "    30,\n",
        "    Trials()\n",
        ")"
      ],
      "execution_count": 0,
      "outputs": []
    },
    {
      "cell_type": "code",
      "metadata": {
        "id": "4Uc1JrNC2-I4",
        "colab_type": "code",
        "colab": {}
      },
      "source": [
        " "
      ],
      "execution_count": 0,
      "outputs": []
    },
    {
      "cell_type": "markdown",
      "metadata": {
        "id": "4HqRRZWaVL2s",
        "colab_type": "text"
      },
      "source": [
        "\n",
        "{'barch_size': 130.0, \n",
        "'dropout_cnn_block_1': 0.4179350709693718, \n",
        "'dropout_cnn_block_2': 0.39684638781089915, \n",
        "'dropout_cnn_block_3': 0.38237954774632404, \n",
        "'dropout_dense_block_1': 0.367459765552649, \n",
        "'dropout_dense_block_2': 0.4238439232584229}\n",
        "accuracy=0.9743764400482178"
      ]
    },
    {
      "cell_type": "code",
      "metadata": {
        "id": "On060eT7VR9d",
        "colab_type": "code",
        "colab": {}
      },
      "source": [
        ""
      ],
      "execution_count": 0,
      "outputs": []
    }
  ]
}