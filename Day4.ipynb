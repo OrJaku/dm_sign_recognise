{
  "nbformat": 4,
  "nbformat_minor": 0,
  "metadata": {
    "colab": {
      "name": "Day4.ipynb",
      "provenance": [],
      "mount_file_id": "1R0-53F6Dye8xRoiGeUj425QPnzCZryZ2",
      "authorship_tag": "ABX9TyO7VBEyNvm6pAb40w1NDu6z",
      "include_colab_link": true
    },
    "kernelspec": {
      "name": "python3",
      "display_name": "Python 3"
    },
    "accelerator": "GPU"
  },
  "cells": [
    {
      "cell_type": "markdown",
      "metadata": {
        "id": "view-in-github",
        "colab_type": "text"
      },
      "source": [
        "<a href=\"https://colab.research.google.com/github/OrJaku/dm_sign_recognise/blob/master/Day4.ipynb\" target=\"_parent\"><img src=\"https://colab.research.google.com/assets/colab-badge.svg\" alt=\"Open In Colab\"/></a>"
      ]
    },
    {
      "cell_type": "code",
      "metadata": {
        "id": "6cYHxtNb4stm",
        "colab_type": "code",
        "colab": {
          "base_uri": "https://localhost:8080/",
          "height": 52
        },
        "outputId": "df00be98-e002-4ba6-f4fb-34d7ebb82588"
      },
      "source": [
        "import pandas as pd\n",
        "import numpy as np\n",
        "\n",
        "import tensorflow as tf \n",
        "from tensorflow.keras.models import Sequential\n",
        "from tensorflow.keras.layers import Conv2D, MaxPool2D, Dense, Flatten, Dropout\n",
        "from tensorflow.keras.utils import to_categorical\n",
        "\n",
        "import os\n",
        "import datetime\n",
        "\n",
        "import matplotlib.pyplot as plt\n",
        "from skimage import color, exposure\n",
        "from sklearn.metrics import accuracy_score\n",
        "%load_ext tensorboard\n"
      ],
      "execution_count": 35,
      "outputs": [
        {
          "output_type": "stream",
          "text": [
            "The tensorboard extension is already loaded. To reload it, use:\n",
            "  %reload_ext tensorboard\n"
          ],
          "name": "stdout"
        }
      ]
    },
    {
      "cell_type": "code",
      "metadata": {
        "id": "NHU4Z-wt5jyP",
        "colab_type": "code",
        "outputId": "4b7ffa99-c23d-4859-f1c5-e8f1201e853e",
        "colab": {
          "base_uri": "https://localhost:8080/",
          "height": 34
        }
      },
      "source": [
        "cd drive/My Drive/Colab Notebooks/dw_matrix_3/dm_sign_recognise"
      ],
      "execution_count": 3,
      "outputs": [
        {
          "output_type": "stream",
          "text": [
            "/content/drive/My Drive/Colab Notebooks/dw_matrix_3/dm_sign_recognise\n"
          ],
          "name": "stdout"
        }
      ]
    },
    {
      "cell_type": "code",
      "metadata": {
        "id": "8SjvDj9wnhWh",
        "colab_type": "code",
        "colab": {
          "base_uri": "https://localhost:8080/",
          "height": 34
        },
        "outputId": "061a7c7a-646f-48a8-f1d7-431677c8fb76"
      },
      "source": [
        "from google.colab import drive\n",
        "drive.mount('/content/drive')"
      ],
      "execution_count": 2,
      "outputs": [
        {
          "output_type": "stream",
          "text": [
            "Drive already mounted at /content/drive; to attempt to forcibly remount, call drive.mount(\"/content/drive\", force_remount=True).\n"
          ],
          "name": "stdout"
        }
      ]
    },
    {
      "cell_type": "code",
      "metadata": {
        "id": "lxrkSgaC5y7q",
        "colab_type": "code",
        "colab": {}
      },
      "source": [
        "train = pd.read_pickle('data/train.p')\n",
        "test = pd.read_pickle('data/test.p')\n",
        "\n",
        "x_train, y_train = train['features'], train['labels']\n",
        "x_test, y_test = test['features'], test['labels']\n"
      ],
      "execution_count": 0,
      "outputs": []
    },
    {
      "cell_type": "code",
      "metadata": {
        "id": "ruA1Y4d562MJ",
        "colab_type": "code",
        "colab": {}
      },
      "source": [
        "if y_train.ndim == 1: y_train = to_categorical(y_train)\n",
        "if y_test.ndim == 1: y_test = to_categorical(y_test)"
      ],
      "execution_count": 0,
      "outputs": []
    },
    {
      "cell_type": "code",
      "metadata": {
        "id": "63pll22j9SzO",
        "colab_type": "code",
        "colab": {}
      },
      "source": [
        "input_shape = x_train.shape[1:]\n",
        "num_classes = y_train.shape[1]"
      ],
      "execution_count": 0,
      "outputs": []
    },
    {
      "cell_type": "code",
      "metadata": {
        "id": "7Fa6mPZDbIrm",
        "colab_type": "code",
        "colab": {
          "base_uri": "https://localhost:8080/",
          "height": 34
        },
        "outputId": "e0f2b3cf-2e2b-4db0-d5de-43325bfd20a7"
      },
      "source": [
        "np.argmax(y_test, axis=1)"
      ],
      "execution_count": 57,
      "outputs": [
        {
          "output_type": "execute_result",
          "data": {
            "text/plain": [
              "array([41, 41, 41, ..., 25, 25, 25])"
            ]
          },
          "metadata": {
            "tags": []
          },
          "execution_count": 57
        }
      ]
    },
    {
      "cell_type": "code",
      "metadata": {
        "id": "WQOTQAPd8h_p",
        "colab_type": "code",
        "colab": {}
      },
      "source": [
        "\n",
        "df = pd.read_csv('data/signnames.csv')\n",
        "lables_dict = df.to_dict()['b']\n",
        "\n",
        "def predict(model_trained, x_test, y_test, scoring=accuracy_score):\n",
        "  y_test_norm = np.argmax(y_test, axis=1)\n",
        "\n",
        "  y_pred_prob = model_trained.predict(x_test)\n",
        "  y_pred = np.argmax(y_pred_prob, axis=1)\n",
        "\n",
        "  return scoring(y_test_norm, y_pred)"
      ],
      "execution_count": 0,
      "outputs": []
    },
    {
      "cell_type": "code",
      "metadata": {
        "id": "lZKhI41kVbr0",
        "colab_type": "code",
        "colab": {}
      },
      "source": [
        ""
      ],
      "execution_count": 0,
      "outputs": []
    },
    {
      "cell_type": "code",
      "metadata": {
        "id": "3iWUYtNOll9s",
        "colab_type": "code",
        "colab": {}
      },
      "source": [
        "\n",
        "\n",
        "def get_cnn_v1(input_shape, num_classes):\n",
        "  return  Sequential([\n",
        "            Conv2D(filters=64, kernel_size=(3,3), activation='relu', input_shape=input_shape),\n",
        "            Flatten(),\n",
        "            Dense(num_classes, activation='softmax')\n",
        "    \n",
        "  ])\n",
        "\n",
        "\n"
      ],
      "execution_count": 0,
      "outputs": []
    },
    {
      "cell_type": "code",
      "metadata": {
        "id": "F09uOcZcYRet",
        "colab_type": "code",
        "colab": {}
      },
      "source": [
        "def train_model(model, x_train, y_train, params_fit={}):\n",
        "  model.compile(loss='categorical_crossentropy', optimizer='Adam', metrics=['accuracy'])\n",
        "\n",
        "  logdir=os.path.join('logs', str(datetime.datetime.now().strftime(\"%Y%m%d-%H%M%S\")))\n",
        "  tensorboard_callback = tf.keras.callbacks.TensorBoard(logdir, histogram_freq=1)\n",
        "\n",
        "  model.fit(\n",
        "      x_train, \n",
        "      y_train,\n",
        "      batch_size=params_fit.get('barch_size', 128),\n",
        "      epochs=params_fit.get('epochs', 5),\n",
        "      verbose=params_fit.get('verbose', 1),\n",
        "      validation_data=params_fit.get('validation_data', (x_train, y_train)),\n",
        "      callbacks= [tensorboard_callback]\n",
        "\n",
        "\n",
        "      )\n",
        "  return model"
      ],
      "execution_count": 0,
      "outputs": []
    },
    {
      "cell_type": "code",
      "metadata": {
        "id": "u_Q03p75nmPe",
        "colab_type": "code",
        "colab": {}
      },
      "source": [
        "model_trained=train_model(get_cnn_v1(input_shape, num_classes), x_train, y_train)\n"
      ],
      "execution_count": 0,
      "outputs": []
    },
    {
      "cell_type": "code",
      "metadata": {
        "id": "9zcsEA9GV5dq",
        "colab_type": "code",
        "colab": {
          "base_uri": "https://localhost:8080/",
          "height": 34
        },
        "outputId": "964170f8-85fe-4cb2-fc7c-d81809ecee3f"
      },
      "source": [
        "predict(model_trained, x_test, y_test)"
      ],
      "execution_count": 40,
      "outputs": [
        {
          "output_type": "execute_result",
          "data": {
            "text/plain": [
              "0.8482993197278912"
            ]
          },
          "metadata": {
            "tags": []
          },
          "execution_count": 40
        }
      ]
    },
    {
      "cell_type": "code",
      "metadata": {
        "id": "qAhXcjqBn8M-",
        "colab_type": "code",
        "outputId": "c15d65fb-0f67-4c46-ecac-9996066e3eda",
        "colab": {
          "base_uri": "https://localhost:8080/",
          "height": 284
        }
      },
      "source": [
        "\n",
        "y_pred_prob = model_trained.predict(x_test)\n",
        "lables_dict [ np.argmax (y_pred_prob[3200])]\n",
        "plt.bar(range(43), y_pred_prob[3200])"
      ],
      "execution_count": 34,
      "outputs": [
        {
          "output_type": "execute_result",
          "data": {
            "text/plain": [
              "<BarContainer object of 43 artists>"
            ]
          },
          "metadata": {
            "tags": []
          },
          "execution_count": 34
        },
        {
          "output_type": "display_data",
          "data": {
            "image/png": "[encoded data removed]",
            "text/plain": [
              "<Figure size 432x288 with 1 Axes>"
            ]
          },
          "metadata": {
            "tags": []
          }
        }
      ]
    },
    {
      "cell_type": "code",
      "metadata": {
        "id": "3kDP1W46re71",
        "colab_type": "code",
        "colab": {}
      },
      "source": [
        "def get_cnn_v2(input_shape, num_classes):\n",
        "  return  Sequential([\n",
        "            Conv2D(filters=32, kernel_size=(3,3), activation='relu', input_shape=input_shape),\n",
        "            MaxPool2D(),\n",
        "            Dropout(0.5),\n",
        "            Conv2D(filters=64, kernel_size=(3,3), activation='relu'),\n",
        "            MaxPool2D(),\n",
        "            Dropout(0.3),\n",
        "            Flatten(),\n",
        "            Dense(1024, activation='relu'),\n",
        "            Dropout(0.3),\n",
        "            Dense(num_classes, activation='softmax')\n",
        "    \n",
        "  ])\n",
        "\n",
        "params_fit= {\n",
        "    'epochs':25\n",
        "\n",
        "}\n",
        "\n",
        "logdir=train_model(get_cnn_v2(input_shape, num_classes), x_train, y_train, params_fit)"
      ],
      "execution_count": 0,
      "outputs": []
    },
    {
      "cell_type": "code",
      "metadata": {
        "id": "sNwulbKus0ec",
        "colab_type": "code",
        "colab": {}
      },
      "source": [
        "%tensorboard --logdir logs"
      ],
      "execution_count": 0,
      "outputs": []
    },
    {
      "cell_type": "code",
      "metadata": {
        "id": "Zh364Dx6usk_",
        "colab_type": "code",
        "colab": {}
      },
      "source": [
        "y_pred_prob = logdir.predict(x_test)\n",
        "lables_dict [ np.argmax (y_pred_prob[3200])]"
      ],
      "execution_count": 0,
      "outputs": []
    },
    {
      "cell_type": "code",
      "metadata": {
        "id": "CZZ4S1GWXdfm",
        "colab_type": "code",
        "colab": {}
      },
      "source": [
        "def train_and_predict(model):\n",
        "  model_trained = train_model(model, x_train, y_train)\n",
        "  return predict(model_trained, x_test, y_test)"
      ],
      "execution_count": 0,
      "outputs": []
    },
    {
      "cell_type": "code",
      "metadata": {
        "id": "9FmcGHAMW-zy",
        "colab_type": "code",
        "colab": {}
      },
      "source": [
        "def get_cnn_v3(input_shape, num_classes):\n",
        "  return  Sequential([\n",
        "            Conv2D(filters=32, kernel_size=(3,3), activation='relu', input_shape=input_shape),\n",
        "            MaxPool2D(),\n",
        "            Dropout(0.3),\n",
        "            Conv2D(filters=64, kernel_size=(3,3), activation='relu'),\n",
        "            MaxPool2D(),\n",
        "            Dropout(0.3),\n",
        "            Flatten(),\n",
        "\n",
        "            Dense(1024, activation='relu'),\n",
        "            Dropout(0.3),\n",
        "            \n",
        "            Dense(num_classes, activation='softmax')\n",
        "    \n",
        "  ])\n",
        "\n",
        "params_fit= {\n",
        "    'epochs':5\n",
        "\n",
        "}\n",
        "\n",
        "# test=train_model(get_cnn_v2(input_shape, num_classes), x_train, y_train, params_fit)"
      ],
      "execution_count": 0,
      "outputs": []
    },
    {
      "cell_type": "code",
      "metadata": {
        "id": "WbUGmDh5p0VT",
        "colab_type": "code",
        "colab": {
          "base_uri": "https://localhost:8080/",
          "height": 204
        },
        "outputId": "ffccec77-3f61-4449-e16e-a66064317e7d"
      },
      "source": [
        "train_and_predict(get_cnn_v3(input_shape, num_classes))"
      ],
      "execution_count": 50,
      "outputs": [
        {
          "output_type": "stream",
          "text": [
            "Epoch 1/5\n",
            "272/272 [==============================] - 7s 24ms/step - loss: 5.4677 - accuracy: 0.3220 - val_loss: 1.2058 - val_accuracy: 0.7022\n",
            "Epoch 2/5\n",
            "272/272 [==============================] - 6s 23ms/step - loss: 1.1209 - accuracy: 0.6723 - val_loss: 0.4481 - val_accuracy: 0.9056\n",
            "Epoch 3/5\n",
            "272/272 [==============================] - 6s 23ms/step - loss: 0.6304 - accuracy: 0.8131 - val_loss: 0.1996 - val_accuracy: 0.9538\n",
            "Epoch 4/5\n",
            "272/272 [==============================] - 6s 23ms/step - loss: 0.4042 - accuracy: 0.8800 - val_loss: 0.1293 - val_accuracy: 0.9718\n",
            "Epoch 5/5\n",
            "272/272 [==============================] - 6s 23ms/step - loss: 0.3058 - accuracy: 0.9080 - val_loss: 0.1027 - val_accuracy: 0.9813\n"
          ],
          "name": "stdout"
        },
        {
          "output_type": "execute_result",
          "data": {
            "text/plain": [
              "0.9006802721088435"
            ]
          },
          "metadata": {
            "tags": []
          },
          "execution_count": 50
        }
      ]
    },
    {
      "cell_type": "code",
      "metadata": {
        "id": "QDitkwfgqslQ",
        "colab_type": "code",
        "colab": {}
      },
      "source": [
        "def get_cnn_v4(input_shape, num_classes):\n",
        "  return  Sequential([\n",
        "            Conv2D(filters=32, kernel_size=(3,3), activation='relu', input_shape=input_shape),\n",
        "            Conv2D(filters=32, kernel_size=(3,3), activation='relu'),\n",
        "            MaxPool2D(),\n",
        "            Dropout(0.3),\n",
        "\n",
        "            Conv2D(filters=64, kernel_size=(3,3), activation='relu'),\n",
        "            Conv2D(filters=64, kernel_size=(3,3), activation='relu'),\n",
        "            MaxPool2D(),\n",
        "            Dropout(0.3),\n",
        "\n",
        "            Flatten(),\n",
        "\n",
        "            Dense(1024, activation='relu'),\n",
        "            Dropout(0.3),\n",
        "            \n",
        "            Dense(num_classes, activation='softmax')\n",
        "    \n",
        "  ])\n",
        "\n",
        "params_fit= {\n",
        "    'epochs':5\n",
        "\n",
        "}\n"
      ],
      "execution_count": 0,
      "outputs": []
    },
    {
      "cell_type": "code",
      "metadata": {
        "id": "dyvXvGz0rPjf",
        "colab_type": "code",
        "colab": {
          "base_uri": "https://localhost:8080/",
          "height": 204
        },
        "outputId": "2022d0fd-fb92-463d-9e40-7537425173c9"
      },
      "source": [
        "train_and_predict(get_cnn_v4(input_shape, num_classes))"
      ],
      "execution_count": 54,
      "outputs": [
        {
          "output_type": "stream",
          "text": [
            "Epoch 1/5\n",
            "272/272 [==============================] - 10s 38ms/step - loss: 1.9777 - accuracy: 0.5623 - val_loss: 0.2422 - val_accuracy: 0.9549\n",
            "Epoch 2/5\n",
            "272/272 [==============================] - 10s 36ms/step - loss: 0.3594 - accuracy: 0.8957 - val_loss: 0.0798 - val_accuracy: 0.9839\n",
            "Epoch 3/5\n",
            "272/272 [==============================] - 10s 36ms/step - loss: 0.1964 - accuracy: 0.9430 - val_loss: 0.0322 - val_accuracy: 0.9918\n",
            "Epoch 4/5\n",
            "272/272 [==============================] - 10s 36ms/step - loss: 0.1325 - accuracy: 0.9608 - val_loss: 0.0294 - val_accuracy: 0.9928\n",
            "Epoch 5/5\n",
            "272/272 [==============================] - 10s 36ms/step - loss: 0.1092 - accuracy: 0.9676 - val_loss: 0.0116 - val_accuracy: 0.9969\n"
          ],
          "name": "stdout"
        },
        {
          "output_type": "execute_result",
          "data": {
            "text/plain": [
              "0.9707482993197278"
            ]
          },
          "metadata": {
            "tags": []
          },
          "execution_count": 54
        }
      ]
    },
    {
      "cell_type": "code",
      "metadata": {
        "id": "5TlfL7-laNqF",
        "colab_type": "code",
        "colab": {
          "base_uri": "https://localhost:8080/",
          "height": 204
        },
        "outputId": "cf9344df-2dd6-4c51-828d-10cf6e6cbb04"
      },
      "source": [
        "def get_cnn_v5(input_shape, num_classes):\n",
        "  return  Sequential([\n",
        "            Conv2D(filters=32, kernel_size=(3,3), activation='relu', input_shape=input_shape),\n",
        "            Conv2D(filters=32, kernel_size=(3,3), activation='relu', padding=\"same\"),\n",
        "            MaxPool2D(),\n",
        "            Dropout(0.3),\n",
        "\n",
        "            Conv2D(filters=64, kernel_size=(3,3), activation='relu', padding=\"same\"),\n",
        "            Conv2D(filters=64, kernel_size=(3,3), activation='relu'),\n",
        "            MaxPool2D(),\n",
        "            Dropout(0.3),\n",
        "\n",
        "            \n",
        "            Conv2D(filters=64, kernel_size=(3,3), activation='relu', padding=\"same\"),\n",
        "            Conv2D(filters=64, kernel_size=(3,3), activation='relu'),\n",
        "            MaxPool2D(),\n",
        "            Dropout(0.3),\n",
        "\n",
        "            Flatten(),\n",
        "\n",
        "            Dense(1024, activation='relu'),\n",
        "            Dropout(0.3),\n",
        "            \n",
        "            Dense(num_classes, activation='softmax')\n",
        "    \n",
        "  ])\n",
        "\n",
        "params_fit= {\n",
        "    'epochs':5\n",
        "\n",
        "}\n",
        "train_and_predict(get_cnn_v5(input_shape, num_classes))"
      ],
      "execution_count": 60,
      "outputs": [
        {
          "output_type": "stream",
          "text": [
            "Epoch 1/5\n",
            "272/272 [==============================] - 12s 44ms/step - loss: 2.4650 - accuracy: 0.3448 - val_loss: 0.6664 - val_accuracy: 0.8352\n",
            "Epoch 2/5\n",
            "272/272 [==============================] - 12s 43ms/step - loss: 0.6918 - accuracy: 0.7888 - val_loss: 0.2086 - val_accuracy: 0.9420\n",
            "Epoch 3/5\n",
            "272/272 [==============================] - 12s 43ms/step - loss: 0.3507 - accuracy: 0.8945 - val_loss: 0.0891 - val_accuracy: 0.9751\n",
            "Epoch 4/5\n",
            "272/272 [==============================] - 12s 43ms/step - loss: 0.2418 - accuracy: 0.9284 - val_loss: 0.0542 - val_accuracy: 0.9829\n",
            "Epoch 5/5\n",
            "272/272 [==============================] - 12s 43ms/step - loss: 0.1803 - accuracy: 0.9463 - val_loss: 0.0345 - val_accuracy: 0.9912\n"
          ],
          "name": "stdout"
        },
        {
          "output_type": "execute_result",
          "data": {
            "text/plain": [
              "0.9625850340136054"
            ]
          },
          "metadata": {
            "tags": []
          },
          "execution_count": 60
        }
      ]
    },
    {
      "cell_type": "code",
      "metadata": {
        "id": "e_kHZex0cWGW",
        "colab_type": "code",
        "colab": {}
      },
      "source": [
        "def get_cnn_v6(input_shape, num_classes):\n",
        "  return  Sequential([\n",
        "            Conv2D(filters=32, kernel_size=(3,3), activation='relu', input_shape=input_shape),\n",
        "            Conv2D(filters=32, kernel_size=(3,3), activation='relu', padding=\"same\"),\n",
        "            MaxPool2D(),\n",
        "            Dropout(0.3),\n",
        "\n",
        "            Conv2D(filters=64, kernel_size=(3,3), activation='relu', padding=\"same\"),\n",
        "            Conv2D(filters=64, kernel_size=(3,3), activation='relu'),\n",
        "            MaxPool2D(),\n",
        "            Dropout(0.3),\n",
        "\n",
        "            \n",
        "            Conv2D(filters=64, kernel_size=(3,3), activation='relu', padding=\"same\"),\n",
        "            Conv2D(filters=64, kernel_size=(3,3), activation='relu'),\n",
        "            MaxPool2D(),\n",
        "            Dropout(0.3),\n",
        "\n",
        "            Flatten(),\n",
        "\n",
        "            Dense(1024, activation='relu'),\n",
        "            Dropout(0.3),\n",
        "\n",
        "            Dense(1024, activation='relu'),\n",
        "            Dropout(0.3),\n",
        "            \n",
        "            Dense(num_classes, activation='softmax')\n",
        "    \n",
        "  ])\n",
        "\n"
      ],
      "execution_count": 0,
      "outputs": []
    },
    {
      "cell_type": "code",
      "metadata": {
        "id": "Aj1q2SNPgq9n",
        "colab_type": "code",
        "colab": {}
      },
      "source": [
        "|x_train_gray = color.rgb2gray( x_train ).reshape(-1, 32, 32, 1)\n",
        "x_test_gray = color.rgb2gray( x_test ).reshape(-1, 32, 32, 1)"
      ],
      "execution_count": 0,
      "outputs": []
    },
    {
      "cell_type": "code",
      "metadata": {
        "id": "1mcpHRYddlY6",
        "colab_type": "code",
        "colab": {
          "base_uri": "https://localhost:8080/",
          "height": 306
        },
        "outputId": "b57d84f0-4bbd-42c6-9445-0dc7f696f61a"
      },
      "source": [
        "params_fit= {\n",
        "    'epochs':8\n",
        "}\n",
        "\n",
        "\n",
        "\n",
        "model = get_cnn_v6((32, 32, 1), num_classes)\n",
        "model_trained = train_model(model, x_train_gray, y_train, params_fit)\n",
        "predict(model_trained, x_test_gray, y_test)"
      ],
      "execution_count": 72,
      "outputs": [
        {
          "output_type": "stream",
          "text": [
            "Epoch 1/8\n",
            "272/272 [==============================] - 13s 47ms/step - loss: 2.4341 - accuracy: 0.3073 - val_loss: 0.7564 - val_accuracy: 0.7508\n",
            "Epoch 2/8\n",
            "272/272 [==============================] - 12s 45ms/step - loss: 0.5261 - accuracy: 0.8330 - val_loss: 0.1297 - val_accuracy: 0.9614\n",
            "Epoch 3/8\n",
            "272/272 [==============================] - 12s 46ms/step - loss: 0.2124 - accuracy: 0.9348 - val_loss: 0.0525 - val_accuracy: 0.9866\n",
            "Epoch 4/8\n",
            "272/272 [==============================] - 12s 45ms/step - loss: 0.1360 - accuracy: 0.9577 - val_loss: 0.0297 - val_accuracy: 0.9914\n",
            "Epoch 5/8\n",
            "272/272 [==============================] - 12s 45ms/step - loss: 0.1070 - accuracy: 0.9659 - val_loss: 0.0210 - val_accuracy: 0.9937\n",
            "Epoch 6/8\n",
            "272/272 [==============================] - 12s 45ms/step - loss: 0.0857 - accuracy: 0.9735 - val_loss: 0.0142 - val_accuracy: 0.9961\n",
            "Epoch 7/8\n",
            "272/272 [==============================] - 12s 46ms/step - loss: 0.0695 - accuracy: 0.9788 - val_loss: 0.0148 - val_accuracy: 0.9955\n",
            "Epoch 8/8\n",
            "272/272 [==============================] - 12s 46ms/step - loss: 0.0688 - accuracy: 0.9791 - val_loss: 0.0084 - val_accuracy: 0.9982\n"
          ],
          "name": "stdout"
        },
        {
          "output_type": "execute_result",
          "data": {
            "text/plain": [
              "0.9834467120181406"
            ]
          },
          "metadata": {
            "tags": []
          },
          "execution_count": 72
        }
      ]
    },
    {
      "cell_type": "code",
      "metadata": {
        "id": "vKkYgxvZhDO5",
        "colab_type": "code",
        "colab": {
          "base_uri": "https://localhost:8080/",
          "height": 283
        },
        "outputId": "091c0185-2627-403b-9759-025e5bb35d2e"
      },
      "source": [
        "plt.imshow( color.rgb2gray (x_train[0]), cmap=plt.get_cmap(\"gray\"))"
      ],
      "execution_count": 67,
      "outputs": [
        {
          "output_type": "execute_result",
          "data": {
            "text/plain": [
              "<matplotlib.image.AxesImage at 0x7efde647ee10>"
            ]
          },
          "metadata": {
            "tags": []
          },
          "execution_count": 67
        },
        {
          "output_type": "display_data",
          "data": {
            "image/png": "[encoded data removed]",
            "text/plain": [
              "<Figure size 432x288 with 1 Axes>"
            ]
          },
          "metadata": {
            "tags": []
          }
        }
      ]
    },
    {
      "cell_type": "code",
      "metadata": {
        "id": "f-ESmyukh0wN",
        "colab_type": "code",
        "colab": {}
      },
      "source": [
        ""
      ],
      "execution_count": 0,
      "outputs": []
    }
  ]
}